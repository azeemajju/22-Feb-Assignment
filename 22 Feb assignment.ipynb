{
 "cells": [
  {
   "cell_type": "markdown",
   "id": "d6f09855",
   "metadata": {},
   "source": [
    "Q1. Create a Pandas Series that contains the following data: 4, 8, 15, 16, 23, and 42. Then, print the series."
   ]
  },
  {
   "cell_type": "code",
   "execution_count": 8,
   "id": "4d81a43b",
   "metadata": {},
   "outputs": [
    {
     "name": "stdout",
     "output_type": "stream",
     "text": [
      "0     4\n",
      "1     8\n",
      "2    15\n",
      "3    16\n",
      "4    23\n",
      "5    42\n",
      "dtype: int64\n"
     ]
    }
   ],
   "source": [
    "import pandas as pd\n",
    "\n",
    "# Create a Pandas Series\n",
    "data = pd.Series([4, 8, 15, 16, 23, 42])\n",
    "\n",
    "# Print the Series\n",
    "print(data)"
   ]
  },
  {
   "cell_type": "markdown",
   "id": "7cc17fc1",
   "metadata": {},
   "source": [
    "Q2. Create a variable of list type containing 10 elements in it, and apply pandas.Series function on the\n",
    "variable print it."
   ]
  },
  {
   "cell_type": "code",
   "execution_count": 9,
   "id": "a9d1a39a",
   "metadata": {},
   "outputs": [
    {
     "name": "stdout",
     "output_type": "stream",
     "text": [
      "0     1\n",
      "1     2\n",
      "2     3\n",
      "3     4\n",
      "4     5\n",
      "5     6\n",
      "6     7\n",
      "7     8\n",
      "8     9\n",
      "9    10\n",
      "dtype: int64\n"
     ]
    }
   ],
   "source": [
    "import pandas as pd\n",
    "\n",
    "my_list = [1, 2, 3, 4, 5, 6, 7, 8, 9, 10]\n",
    "data = pd.Series(my_list)\n",
    "print(data)"
   ]
  },
  {
   "cell_type": "markdown",
   "id": "ab2b41c6",
   "metadata": {},
   "source": [
    "Q3. Create a Pandas DataFrame that contains the following data"
   ]
  },
  {
   "cell_type": "code",
   "execution_count": 12,
   "id": "24cd46dc",
   "metadata": {},
   "outputs": [
    {
     "name": "stdout",
     "output_type": "stream",
     "text": [
      "     Name  Age  Gender\n",
      "0   Alice   25  Female\n",
      "1     Bob   30    Male\n",
      "2  Claire   27  Female\n"
     ]
    }
   ],
   "source": [
    "import pandas as pd\n",
    "\n",
    "data = {\n",
    "    'Name': ['Alice', 'Bob', 'Claire'],\n",
    "    'Age': [25, 30, 27],\n",
    "    'Gender': ['Female', 'Male', 'Female']\n",
    "}\n",
    "df = pd.DataFrame(data)\n",
    "print(df)\n"
   ]
  },
  {
   "cell_type": "markdown",
   "id": "a8bb006d",
   "metadata": {},
   "source": [
    "Q4. What is ‘DataFrame’ in pandas and how is it different from pandas.series? Explain with an example.\n",
    "\n",
    "Ans:In Pandas, a DataFrame is a two-dimensional labeled data structure that represents a table-like data structure with rows and columns. It is a fundamental data structure in Pandas and provides a way to organize and manipulate data efficiently. A DataFrame can be seen as a collection of Pandas Series objects, where each column of the DataFrame is a Series.\n",
    "\n",
    "A Pandas Series, on the other hand, is a one-dimensional labeled array that can hold data of any type. It is similar to a column in a DataFrame but lacks the tabular structure of rows and columns.\n",
    "\n",
    "Here's an example to illustrate the difference between a DataFrame and a Series:\n",
    "\n",
    "```python\n",
    "import pandas as pd\n",
    "\n",
    "# Create a Pandas Series\n",
    "ages = pd.Series([25, 30, 27, 35])\n",
    "\n",
    "# Create a Pandas DataFrame\n",
    "data = {\n",
    "    'Name': ['Alice', 'Bob', 'Claire', 'Dave'],\n",
    "    'Age': ages,\n",
    "    'Gender': ['Female', 'Male', 'Female', 'Male']\n",
    "}\n",
    "\n",
    "df = pd.DataFrame(data)\n",
    "\n",
    "print(\"Series:\")\n",
    "print(ages)\n",
    "print(\"\\nDataFrame:\")\n",
    "print(df)\n",
    "```\n",
    "\n",
    "Output:\n",
    "```\n",
    "Series:\n",
    "0    25\n",
    "1    30\n",
    "2    27\n",
    "3    35\n",
    "dtype: int64\n",
    "\n",
    "DataFrame:\n",
    "    Name  Age  Gender\n",
    "0  Alice   25  Female\n",
    "1    Bob   30    Male\n",
    "2 Claire   27  Female\n",
    "3   Dave   35    Male\n",
    "```"
   ]
  },
  {
   "cell_type": "markdown",
   "id": "717f631a",
   "metadata": {},
   "source": [
    "Q5. What are some common functions you can use to manipulate data in a Pandas DataFrame? Can\n",
    "you give an example of when you might use one of these functions?"
   ]
  },
  {
   "cell_type": "markdown",
   "id": "cc62bd59",
   "metadata": {},
   "source": [
    "Pandas provides a wide range of functions to manipulate data in a DataFrame. Here are some common functions:\n",
    "\n",
    "1. `head()` and `tail()`: These functions allow you to view the first few rows (`head()`) or last few rows (`tail()`) of the DataFrame. They are useful for inspecting the structure and content of the DataFrame.\n",
    "\n",
    "```python\n",
    "import pandas as pd\n",
    "\n",
    "# Create a DataFrame\n",
    "data = {'Name': ['Alice', 'Bob', 'Claire', 'Dave'],\n",
    "        'Age': [25, 30, 27, 35],\n",
    "        'Gender': ['Female', 'Male', 'Female', 'Male']}\n",
    "df = pd.DataFrame(data)\n",
    "\n",
    "# View the first few rows\n",
    "print(df.head())\n",
    "\n",
    "# View the last few rows\n",
    "print(df.tail())\n",
    "```\n",
    "\n",
    "2. `describe()`: This function provides a statistical summary of the DataFrame, including count, mean, standard deviation, minimum, quartiles, and maximum values for numeric columns.\n",
    "\n",
    "```python\n",
    "import pandas as pd\n",
    "\n",
    "# Create a DataFrame\n",
    "data = {'Name': ['Alice', 'Bob', 'Claire', 'Dave'],\n",
    "        'Age': [25, 30, 27, 35],\n",
    "        'Gender': ['Female', 'Male', 'Female', 'Male']}\n",
    "df = pd.DataFrame(data)\n",
    "\n",
    "# Statistical summary of the DataFrame\n",
    "print(df.describe())\n",
    "```\n",
    "\n",
    "3. `sort_values()`: This function allows you to sort the DataFrame by one or more columns. It is helpful for arranging the data in a specific order.\n",
    "\n",
    "```python\n",
    "import pandas as pd\n",
    "\n",
    "# Create a DataFrame\n",
    "data = {'Name': ['Alice', 'Bob', 'Claire', 'Dave'],\n",
    "        'Age': [25, 30, 27, 35],\n",
    "        'Gender': ['Female', 'Male', 'Female', 'Male']}\n",
    "df = pd.DataFrame(data)\n",
    "\n",
    "# Sort the DataFrame by 'Age' column\n",
    "df_sorted = df.sort_values('Age')\n",
    "print(df_sorted)\n",
    "```\n",
    "\n",
    "4. `groupby()`: This function is used to group the DataFrame by one or more columns. It allows you to perform aggregate functions or calculations on specific groups within the data.\n",
    "\n",
    "```python\n",
    "import pandas as pd\n",
    "\n",
    "# Create a DataFrame\n",
    "data = {'Name': ['Alice', 'Bob', 'Claire', 'Dave'],\n",
    "        'Age': [25, 30, 27, 35],\n",
    "        'Gender': ['Female', 'Male', 'Female', 'Male']}\n",
    "df = pd.DataFrame(data)\n",
    "\n",
    "# Group the DataFrame by 'Gender' and calculate the mean age\n",
    "age_by_gender = df.groupby('Gender')['Age'].mean()\n",
    "print(age_by_gender)\n",
    "```\n",
    "\n",
    "These are just a few examples of the many functions available in Pandas to manipulate data in a DataFrame. The choice of which function to use depends on the specific task or analysis you want to perform on the data."
   ]
  },
  {
   "cell_type": "markdown",
   "id": "9699a0b6",
   "metadata": {},
   "source": [
    "Q6. Which of the following is mutable in nature Series, DataFrame, Panel?\n",
    "\n",
    "Ans:In Pandas, both the Series and DataFrame are mutable in nature, meaning they can be modified after creation. However, the Panel object is not mutable and has been deprecated since version 0.20.0 of Pandas. Panels were designed to handle three-dimensional data, but the functionality has been mostly replaced by MultiIndexing in DataFrames.\n",
    "\n",
    "To summarize:\n",
    "- Series: Mutable (can be modified)\n",
    "- DataFrame: Mutable (can be modified)\n",
    "- Panel: Deprecated and not mutable\n",
    "\n",
    "Therefore, the correct answer is that the Series and DataFrame are mutable in nature."
   ]
  },
  {
   "cell_type": "markdown",
   "id": "05796ab8",
   "metadata": {},
   "source": [
    "Q7. Create a DataFrame using multiple Series. Explain with an example."
   ]
  },
  {
   "cell_type": "code",
   "execution_count": 14,
   "id": "c430a874",
   "metadata": {},
   "outputs": [
    {
     "name": "stdout",
     "output_type": "stream",
     "text": [
      "     Name  Age  Gender\n",
      "0   Alice   25  Female\n",
      "1     Bob   30    Male\n",
      "2  Claire   27  Female\n"
     ]
    }
   ],
   "source": [
    "import pandas as pd\n",
    "\n",
    "# Create the series objects\n",
    "name_series = pd.Series(['Alice', 'Bob', 'Claire'])\n",
    "age_series = pd.Series([25, 30, 27])\n",
    "gender_series = pd.Series(['Female', 'Male', 'Female'])\n",
    "\n",
    "# Create the DataFrame using the series\n",
    "data = {\n",
    "    'Name': name_series,\n",
    "    'Age': age_series,\n",
    "    'Gender': gender_series\n",
    "}\n",
    "df = pd.DataFrame(data)\n",
    "\n",
    "# Print the DataFrame\n",
    "print(df)\n"
   ]
  },
  {
   "cell_type": "code",
   "execution_count": null,
   "id": "aba5d238",
   "metadata": {},
   "outputs": [],
   "source": []
  },
  {
   "cell_type": "code",
   "execution_count": null,
   "id": "400c98c0",
   "metadata": {},
   "outputs": [],
   "source": []
  },
  {
   "cell_type": "code",
   "execution_count": null,
   "id": "6f8f6009",
   "metadata": {},
   "outputs": [],
   "source": []
  },
  {
   "cell_type": "code",
   "execution_count": null,
   "id": "1f573cbd",
   "metadata": {},
   "outputs": [],
   "source": []
  },
  {
   "cell_type": "code",
   "execution_count": null,
   "id": "0e09f13f",
   "metadata": {},
   "outputs": [],
   "source": []
  },
  {
   "cell_type": "code",
   "execution_count": null,
   "id": "8742ef5a",
   "metadata": {},
   "outputs": [],
   "source": []
  },
  {
   "cell_type": "code",
   "execution_count": null,
   "id": "dfa14c35",
   "metadata": {},
   "outputs": [],
   "source": []
  },
  {
   "cell_type": "code",
   "execution_count": null,
   "id": "eb232cf4",
   "metadata": {},
   "outputs": [],
   "source": []
  },
  {
   "cell_type": "code",
   "execution_count": null,
   "id": "50f21b93",
   "metadata": {},
   "outputs": [],
   "source": []
  },
  {
   "cell_type": "code",
   "execution_count": null,
   "id": "cf9d1b3f",
   "metadata": {},
   "outputs": [],
   "source": []
  }
 ],
 "metadata": {
  "kernelspec": {
   "display_name": "Python 3 (ipykernel)",
   "language": "python",
   "name": "python3"
  },
  "language_info": {
   "codemirror_mode": {
    "name": "ipython",
    "version": 3
   },
   "file_extension": ".py",
   "mimetype": "text/x-python",
   "name": "python",
   "nbconvert_exporter": "python",
   "pygments_lexer": "ipython3",
   "version": "3.9.13"
  }
 },
 "nbformat": 4,
 "nbformat_minor": 5
}
